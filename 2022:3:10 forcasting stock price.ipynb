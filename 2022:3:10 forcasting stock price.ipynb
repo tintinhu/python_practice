{
 "cells": [
  {
   "cell_type": "code",
   "execution_count": 12,
   "metadata": {},
   "outputs": [
    {
     "name": "stderr",
     "output_type": "stream",
     "text": [
      "Exception in thread Thread-4:\n",
      "Traceback (most recent call last):\n",
      "  File \"/Applications/anaconda3/lib/python3.8/threading.py\", line 932, in _bootstrap_inner\n",
      "    self.run()\n",
      "  File \"/Applications/anaconda3/lib/python3.8/threading.py\", line 870, in run\n",
      "    self._target(*self._args, **self._kwargs)\n",
      "  File \"/Applications/anaconda3/lib/python3.8/site-packages/multitasking/__init__.py\", line 102, in _run_via_pool\n",
      "    return callee(*args, **kwargs)\n",
      "  File \"/Applications/anaconda3/lib/python3.8/site-packages/yfinance/multi.py\", line 167, in _download_one_threaded\n",
      "    for key in shared._DFS.keys():\n",
      "  File \"/Applications/anaconda3/lib/python3.8/site-packages/yfinance/multi.py\", line 179, in _download_one\n",
      "    \n",
      "  File \"/Applications/anaconda3/lib/python3.8/site-packages/yfinance/base.py\", line 157, in history\n",
      "    end = int(_time.mktime(end.timetuple()))\n",
      "  File \"/Applications/anaconda3/lib/python3.8/site-packages/requests/models.py\", line 898, in json\n",
      "    try:\n",
      "  File \"/Applications/anaconda3/lib/python3.8/site-packages/simplejson/__init__.py\", line 525, in loads\n",
      "    return _default_decoder.decode(s)\n",
      "  File \"/Applications/anaconda3/lib/python3.8/site-packages/simplejson/decoder.py\", line 370, in decode\n",
      "    obj, end = self.raw_decode(s)\n",
      "  File \"/Applications/anaconda3/lib/python3.8/site-packages/simplejson/decoder.py\", line 400, in raw_decode\n",
      "    return self.scan_once(s, idx=_w(s, idx).end())\n",
      "simplejson.errors.JSONDecodeError: Expecting value: line 1 column 1 (char 0)\n"
     ]
    }
   ],
   "source": [
    "from pandas_datareader import data as web\n",
    "import datetime as dt\n",
    "import yfinance as yf\n",
    "\n",
    "yf.pdr_override()\n",
    "\n",
    "start = dt.datetime(2000, 1, 1)\n",
    "end = dt.datetime(2019, 10, 1)\n",
    "\n",
    "df = web.get_data_yahoo(['2002.TW'],start, end)\n",
    "df.to_csv(r'C:\\2002.TW.csv')\n",
    "\n",
    "# # GENWORTH_FINANCIAL_INC = web.get_data_yahoo(\"GNW\", start = \"2006-06-01\", end = \"2007-06-01\")\n",
    "# # df = pd.DataFrame(GENWORTH_FINANCIAL_INC)\n",
    "# # df.to_excel(\"/Users/tintin/Desktop/.xlsx\")"
   ]
  },
  {
   "cell_type": "code",
   "execution_count": null,
   "metadata": {},
   "outputs": [],
   "source": []
  }
 ],
 "metadata": {
  "interpreter": {
   "hash": "cd78fef2128015050713e82ca51c6520b11aee7c9ee8df750520bbbc7384cbaa"
  },
  "kernelspec": {
   "display_name": "Python 3.8.5 ('base')",
   "language": "python",
   "name": "python3"
  },
  "language_info": {
   "codemirror_mode": {
    "name": "ipython",
    "version": 3
   },
   "file_extension": ".py",
   "mimetype": "text/x-python",
   "name": "python",
   "nbconvert_exporter": "python",
   "pygments_lexer": "ipython3",
   "version": "3.8.5"
  },
  "orig_nbformat": 4
 },
 "nbformat": 4,
 "nbformat_minor": 2
}
